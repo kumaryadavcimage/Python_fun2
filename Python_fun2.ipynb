{
 "cells": [
  {
   "cell_type": "markdown",
   "id": "80fe52d4-f790-4e4c-bd24-fbba165beeea",
   "metadata": {},
   "source": [
    "#### Q1: Create a python program to sort the given list of tuples based on integer value using a lambda function.\n",
    "\n",
    "[('Sachin Tendulkar', 34357), ('Ricky Ponting', 27483), ('Jack Kallis', 25534), ('Virat Kohli', 24936)]"
   ]
  },
  {
   "cell_type": "markdown",
   "id": "3314225d-eb66-4d9a-b419-8fc25357fbcb",
   "metadata": {},
   "source": [
    "#### solve\n",
    "\n",
    "Certainly! Here's a Python program that sorts the given list of tuples based on the integer value using a lambda function:"
   ]
  },
  {
   "cell_type": "code",
   "execution_count": 3,
   "id": "804ffa5e-6f5d-4623-84e9-a144d0f048a8",
   "metadata": {},
   "outputs": [
    {
     "name": "stdout",
     "output_type": "stream",
     "text": [
      "('Sachin Tendulkar', 34357)\n",
      "('Ricky Ponting', 27483)\n",
      "('Jack Kallis', 25534)\n",
      "('Virat Kohli', 24936)\n"
     ]
    }
   ],
   "source": [
    "# Given list of tuples\n",
    "players_stats = [('Sachin Tendulkar', 34357),\n",
    "                 ('Ricky Ponting', 27483),\n",
    "                 ('Jack Kallis', 25534),\n",
    "                 ('Virat Kohli', 24936)]\n",
    "\n",
    "# Sort the list of tuples based on the second element of each tuple using a lambda function\n",
    "sorted_players = sorted(players_stats, key=lambda x: x[1], reverse=True)\n",
    "\n",
    "# Print the sorted list\n",
    "for player in sorted_players:\n",
    "    print(player)\n"
   ]
  },
  {
   "cell_type": "markdown",
   "id": "0dd85084-24bd-4c86-9c81-8faf8be9e5c0",
   "metadata": {},
   "source": [
    "####\n",
    "In this example, the sorted function is used to sort the list of tuples based on the second element (index 1) of each tuple in descending order (highest to lowest). The key parameter is set to a lambda function (lambda x: x[1]) to extract the second element of each tuple for comparison during the sorting process. The resulting sorted list is then printed."
   ]
  },
  {
   "cell_type": "markdown",
   "id": "f0ba770c-3708-421c-8017-0942777c065d",
   "metadata": {},
   "source": [
    "#### Q2: Write a Python Program to find the squares of all the numbers in the given list of integers using lambda and map functions.\n",
    "[1, 2, 3, 4, 5, 6, 7, 8, 9, 10]"
   ]
  },
  {
   "cell_type": "markdown",
   "id": "8531a332-5c9a-4b5e-a5c0-044fc8a0750b",
   "metadata": {},
   "source": [
    "#### solve\n",
    "\n",
    "Certainly! Here's a Python program that uses lambda and map functions to find the squares of all the numbers in the given list"
   ]
  },
  {
   "cell_type": "code",
   "execution_count": 5,
   "id": "b79aa825-b877-417e-b604-12e13949829e",
   "metadata": {},
   "outputs": [
    {
     "name": "stdout",
     "output_type": "stream",
     "text": [
      "Original numbers: [1, 2, 3, 4, 5, 6, 7, 8, 9, 10]\n",
      "Squares: [1, 4, 9, 16, 25, 36, 49, 64, 81, 100]\n"
     ]
    }
   ],
   "source": [
    "# Given list of integers\n",
    "numbers = [1, 2, 3, 4, 5, 6, 7, 8, 9, 10]\n",
    "\n",
    "# Use lambda function and map to find squares\n",
    "squares = list(map(lambda x: x**2, numbers))\n",
    "\n",
    "# Print the result\n",
    "print(\"Original numbers:\", numbers)\n",
    "print(\"Squares:\", squares)\n"
   ]
  },
  {
   "cell_type": "markdown",
   "id": "296b1340-b2ba-4fab-af56-5b63689d4e3b",
   "metadata": {},
   "source": [
    "####\n",
    "In this example, the map function applies the lambda function (lambda x: x**2) to each element of the numbers list, calculating the square of each number. The list() function is then used to convert the result to a list, and both the original numbers and their squares are printed."
   ]
  },
  {
   "cell_type": "markdown",
   "id": "9d0e4962-44ec-4887-a007-2cfd12f33d95",
   "metadata": {},
   "source": [
    "#### Q3: Write a python program to convert the given list of integers into a tuple of strings. Use map and lambda functions\n",
    "Given String: [1, 2, 3, 4, 5, 6, 7, 8, 9, 10]\n",
    "\n",
    "Expected output: ('1', '2', '3', '4', '5', '6', '7', '8', '9', '10')"
   ]
  },
  {
   "cell_type": "markdown",
   "id": "58d0e83a-de51-4591-9756-090276478259",
   "metadata": {},
   "source": [
    "#### solve\n",
    "\n",
    "Certainly! Here's a Python program that uses the map function along with a lambda function to convert the given list of integers into a tuple of strings:"
   ]
  },
  {
   "cell_type": "code",
   "execution_count": 7,
   "id": "7fa7174c-6a76-42a4-9af8-a3f58336a84e",
   "metadata": {},
   "outputs": [
    {
     "name": "stdout",
     "output_type": "stream",
     "text": [
      "Original numbers: [1, 2, 3, 4, 5, 6, 7, 8, 9, 10]\n",
      "Tuple of strings: ('1', '2', '3', '4', '5', '6', '7', '8', '9', '10')\n"
     ]
    }
   ],
   "source": [
    "# Given list of integers\n",
    "numbers = [1, 2, 3, 4, 5, 6, 7, 8, 9, 10]\n",
    "\n",
    "# Use lambda function and map to convert to strings and create a tuple\n",
    "tuple_of_strings = tuple(map(lambda x: str(x), numbers))\n",
    "\n",
    "# Print the result\n",
    "print(\"Original numbers:\", numbers)\n",
    "print(\"Tuple of strings:\", tuple_of_strings)\n"
   ]
  },
  {
   "cell_type": "markdown",
   "id": "14f2cca3-9151-4284-b963-37feab613e39",
   "metadata": {},
   "source": [
    "####\n",
    "In this example, the map function applies the lambda function (lambda x: str(x)) to each element of the numbers list, converting each integer to a string. The tuple() function is then used to create a tuple from the result, and both the original numbers and the tuple of strings are printed."
   ]
  },
  {
   "cell_type": "markdown",
   "id": "a457fb36-ed8c-43dd-8099-e49daac01b75",
   "metadata": {},
   "source": [
    "#### Q4. Write a python program using reduce function to compute the product of a list containing numbers from 1 to 25.\n"
   ]
  },
  {
   "cell_type": "markdown",
   "id": "4d6e1ff7-af8d-4647-a040-4b683a75d9e9",
   "metadata": {},
   "source": [
    "####\n",
    "\n",
    "Certainly! You can use the reduce function from the functools module to compute the product of a list containing numbers from 1 to 25. Here's an example:"
   ]
  },
  {
   "cell_type": "code",
   "execution_count": 8,
   "id": "09e7d16e-d1d3-431d-8ef5-cf3304e2bfd2",
   "metadata": {},
   "outputs": [
    {
     "name": "stdout",
     "output_type": "stream",
     "text": [
      "Product of numbers from 1 to 25: 15511210043330985984000000\n"
     ]
    }
   ],
   "source": [
    "from functools import reduce\n",
    "\n",
    "# Generate a list of numbers from 1 to 25\n",
    "numbers = list(range(1, 26))\n",
    "\n",
    "# Use reduce function to compute the product\n",
    "product = reduce(lambda x, y: x * y, numbers)\n",
    "\n",
    "# Print the result\n",
    "print(\"Product of numbers from 1 to 25:\", product)\n"
   ]
  },
  {
   "cell_type": "markdown",
   "id": "42943422-1c6d-4f04-ad8f-5365bee05537",
   "metadata": {},
   "source": [
    "####\n",
    "In this example, the reduce function is used with a lambda function (lambda x, y: x * y) to multiply each element of the numbers list together, resulting in the product of the numbers from 1 to 25"
   ]
  },
  {
   "cell_type": "markdown",
   "id": "798f9b53-a78c-42c9-8ea7-2ca52c8ce685",
   "metadata": {},
   "source": [
    "#### Q5. Write a python program to filter the numbers in a given list that are divisible by 2 and 3 using the filter function. [2, 3, 6, 9, 27, 60, 90, 120, 55, 46]\n"
   ]
  },
  {
   "cell_type": "markdown",
   "id": "12df4eeb-1e87-4822-b0c7-4b49a5e32be2",
   "metadata": {},
   "source": [
    "#### solve\n",
    "\n",
    "Certainly! You can use the filter function to filter the numbers in a given list that are divisible by both 2 and 3. Here's an example:"
   ]
  },
  {
   "cell_type": "code",
   "execution_count": 9,
   "id": "83d7add1-2e38-4fa3-8e61-ca4882a8da2f",
   "metadata": {},
   "outputs": [
    {
     "name": "stdout",
     "output_type": "stream",
     "text": [
      "Original numbers: [2, 3, 6, 9, 27, 60, 90, 120, 55, 46]\n",
      "Numbers divisible by 2 and 3: [6, 60, 90, 120]\n"
     ]
    }
   ],
   "source": [
    "# Given list of numbers\n",
    "numbers = [2, 3, 6, 9, 27, 60, 90, 120, 55, 46]\n",
    "\n",
    "# Use filter function to filter numbers divisible by 2 and 3\n",
    "filtered_numbers = list(filter(lambda x: x % 2 == 0 and x % 3 == 0, numbers))\n",
    "\n",
    "# Print the result\n",
    "print(\"Original numbers:\", numbers)\n",
    "print(\"Numbers divisible by 2 and 3:\", filtered_numbers)\n"
   ]
  },
  {
   "cell_type": "markdown",
   "id": "37f0b7e9-519c-4c17-8b05-35c63ccb7437",
   "metadata": {},
   "source": [
    "####\n",
    "In this example, the filter function is used with a lambda function (lambda x: x % 2 == 0 and x % 3 == 0) to filter the numbers in the numbers list that are divisible by both 2 and 3. The resulting filtered list is then printed."
   ]
  },
  {
   "cell_type": "markdown",
   "id": "f806b45e-6dc3-43ef-9038-5a5f2182f49a",
   "metadata": {},
   "source": [
    "#### Q6. Write a python program to find palindromes in the given list of strings using lambda and filter function. ['python', 'php', 'aba', 'radar', 'level']\n"
   ]
  },
  {
   "cell_type": "markdown",
   "id": "06b965d0-83ed-4168-a1aa-375f7fc8aba4",
   "metadata": {},
   "source": [
    "#### solve\n",
    "\n",
    "Certainly! You can use the filter function with a lambda function to find palindromes in the given list of strings. Here's an example:"
   ]
  },
  {
   "cell_type": "code",
   "execution_count": 11,
   "id": "6c7dbc84-ce46-4911-8982-3615859217cc",
   "metadata": {},
   "outputs": [
    {
     "name": "stdout",
     "output_type": "stream",
     "text": [
      "Original words: ['python', 'php', 'aba', 'radar', 'level']\n",
      "Palindromes: ['php', 'aba', 'radar', 'level']\n"
     ]
    }
   ],
   "source": [
    "# Given list of strings\n",
    "words = ['python', 'php', 'aba', 'radar', 'level']\n",
    "\n",
    "# Use filter function with lambda to find palindromes\n",
    "palindromes = list(filter(lambda x: x == x[::-1], words))\n",
    "\n",
    "# Print the result\n",
    "print(\"Original words:\", words)\n",
    "print(\"Palindromes:\", palindromes)\n"
   ]
  },
  {
   "cell_type": "markdown",
   "id": "2d662e17-3bd3-4209-ac04-923d08e249d0",
   "metadata": {},
   "source": [
    "####\n",
    "In this example, the filter function is used with a lambda function (lambda x: x == x[::-1]) to filter the strings in the words list that are palindromes (i.e., they read the same forwards and backwards). The resulting list of palindromes is then printed."
   ]
  },
  {
   "cell_type": "code",
   "execution_count": null,
   "id": "72e6ae42-c699-4285-9beb-c1c39eb73233",
   "metadata": {},
   "outputs": [],
   "source": []
  },
  {
   "cell_type": "code",
   "execution_count": null,
   "id": "24824eca-be6d-428b-ac8e-e60178e00541",
   "metadata": {},
   "outputs": [],
   "source": []
  }
 ],
 "metadata": {
  "kernelspec": {
   "display_name": "Python 3 (ipykernel)",
   "language": "python",
   "name": "python3"
  },
  "language_info": {
   "codemirror_mode": {
    "name": "ipython",
    "version": 3
   },
   "file_extension": ".py",
   "mimetype": "text/x-python",
   "name": "python",
   "nbconvert_exporter": "python",
   "pygments_lexer": "ipython3",
   "version": "3.10.8"
  }
 },
 "nbformat": 4,
 "nbformat_minor": 5
}
